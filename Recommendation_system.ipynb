{
  "nbformat": 4,
  "nbformat_minor": 0,
  "metadata": {
    "colab": {
      "name": "Recommendation_system_assignment.ipynb",
      "provenance": [],
      "collapsed_sections": []
    },
    "kernelspec": {
      "name": "python3",
      "display_name": "Python 3"
    }
  },
  "cells": [
    {
      "cell_type": "markdown",
      "metadata": {
        "id": "YeM0ZBWUVtXR"
      },
      "source": [
        "# <font color='red'>SGD Algorithm to predict movie ratings</font>"
      ]
    },
    {
      "cell_type": "markdown",
      "metadata": {
        "id": "M2vyJqSlmmjM"
      },
      "source": [
        "**There will be some functions that start with the word \"grader\" ex: grader_matrix(), grader_mean(), grader_dim() etc, you should not change those function definition.<br><br>Every Grader function has to return True.**"
      ]
    },
    {
      "cell_type": "markdown",
      "metadata": {
        "id": "AL6njTf8WBO0"
      },
      "source": [
        "<pre>\n",
        "1. Download the data from <a href='https://drive.google.com/open?id=1-1z7iDB52cB6_JpO7Dqa-eOYSs-mivpq'> here </a>\n",
        "2. The data will be of this format, each data point is represented as a triplet of user_id, movie_id and rating \n",
        "<table>\n",
        "<tr><th>user_id</th><th>movie_id</th><th>rating</th></tr>\n",
        "<tr><td>77</td><td>236</td><td>3</td></tr>\n",
        "<tr><td>471</td><td>208</td><td>5</td></tr>\n",
        "<tr><td>641</td><td>401</td><td>4</td></tr>\n",
        "<tr><td>31</td><td>298</td><td>4</td></tr>\n",
        "<tr><td>58</td><td>504</td><td>5</td></tr>\n",
        "<tr><td>235</td><td>727</td><td>5</td></tr>\n",
        "</table>"
      ]
    },
    {
      "cell_type": "markdown",
      "metadata": {
        "id": "73dhFsT0WSSB"
      },
      "source": [
        "## <font color='red'>Task 1</font>"
      ]
    },
    {
      "cell_type": "markdown",
      "metadata": {
        "id": "HY0frS6EWaEV"
      },
      "source": [
        "<font color='red'><b>Predict the rating for a given (user_id, movie_id) pair </b> </font>\n"
      ]
    },
    {
      "cell_type": "markdown",
      "metadata": {
        "id": "R-ISYxaVbT8L"
      },
      "source": [
        "Predicted rating $\\hat{y}_{ij}$ for user i, movied j pair is calcuated as $\\hat{y}_{ij} = \\mu + b_i + c_j + u_i^T v_j$ , here we will be finding the best values of $b_{i}$ and $c_{j}$ using SGD algorithm with the optimization problem for N users and M movies is defined as"
      ]
    },
    {
      "cell_type": "markdown",
      "metadata": {
        "id": "8Aj8SXeQWlZd"
      },
      "source": [
        "$$\n",
        "L = \\min_{ b, c, \\{ u_i \\}_{i=1}^N, \\{ v_j \\}_{j=1}^M}\n",
        "\\quad\n",
        "\\alpha \\Big(\n",
        "    \\sum_{j} \\sum_{k} v_{jk}^2 \n",
        "    + \\sum_{i} \\sum_{k} u_{ik}^2 \n",
        "    + \\sum_{i} b_i^2\n",
        "    + \\sum_{j} c_i^2\n",
        "    \\Big)\n",
        "+ \\sum_{i,j \\in \\mathcal{I}^{\\text{train}}}\n",
        "    (y_{ij} - \\mu - b_i - c_j - u_i^T v_j)^2\n",
        "$$"
      ]
    },
    {
      "cell_type": "markdown",
      "metadata": {
        "id": "2Q5bnWyZXrM7"
      },
      "source": [
        "<ul>\n",
        "<li><span class=\"math\">\\(\\mu\\)</span> : scalar mean rating</li>\n",
        "<li><span class=\"math\">\\(b_i\\)</span> : scalar bias term for user <span class=\"math\">\\(i\\)</span></li>\n",
        "<li><span class=\"math\">\\(c_j\\)</span> : scalar bias term for movie <span class=\"math\">\\(j\\)</span></li>\n",
        "<li><span class=\"math\">\\(u_i\\)</span> : K-dimensional vector for user <span class=\"math\">\\(i\\)</span></li>\n",
        "<li><span class=\"math\">\\(v_j\\)</span> : K-dimensional vector for movie <span class=\"math\">\\(j\\)</span></li>\n",
        "</ul>\n",
        "\n",
        " $ \\ $\n"
      ]
    },
    {
      "cell_type": "markdown",
      "metadata": {
        "id": "q1cf4CunbEr4"
      },
      "source": [
        "\n",
        "\n",
        "\n",
        "*.  We will be giving you some functions, please write code in that functions only.\n",
        "\n",
        "*.  After every function, we will be giving you expected output, please make sure that you get that output. \n",
        "\n",
        "\n",
        "\n"
      ]
    },
    {
      "cell_type": "markdown",
      "metadata": {
        "id": "ZWQyB5hfy3u7"
      },
      "source": [
        "1. Construct adjacency matrix with the given data, assuming its  <a href='https://en.wikipedia.org/wiki/Bipartite_graph'> weighted un-directed bi-partited graph</a> and the weight of each edge is the rating given by user to the movie\n",
        "\n",
        "<img src='https://i.imgur.com/rmUCGMb.jpg' width=200>\n",
        "\n",
        "   you can construct this matrix like $A[i][j]=r_{ij}$ here $i$ is user_id, $j$ is movie_id and $r_{ij}$ is rating given by user $i$ to the movie $j$\n",
        "\n",
        "   Hint : you can create adjacency matrix using <a href='https://docs.scipy.org/doc/scipy/reference/generated/scipy.sparse.csr_matrix.html'> csr_matrix</a>\n",
        "\n",
        "2. We will Apply SVD decomposition on the Adjaceny matrix <a href='https://stackoverflow.com/a/31528944/4084039'>link1</a>, <a href='https://machinelearningmastery.com/singular-value-decomposition-for-machine-learning/'> link2</a> and get three matrices $U, \\sum, V$ such that $U \\times \\sum \\times V^T = A$, <br> \n",
        "if $A$ is of dimensions $N \\times M$ then <br>\n",
        "U is of $N \\times k$, <br>\n",
        "$\\sum$ is of $k \\times k$ and <br>\n",
        "$V$ is $M \\times k$ dimensions. <br>\n",
        "\n",
        "   *.  So the matrix $U$ can be represented as matrix representation of users, where each row $u_{i}$ represents a k-dimensional vector for a user\n",
        "\n",
        "   *. So the matrix $V$ can be represented as matrix representation of movies, where each row $v_{j}$ represents a k-dimensional vector for a movie.\n",
        "3. Compute $\\mu$ , $\\mu$  represents the mean of all the rating given in the dataset.(write your code in <font color='blue'>def m_u()</font>)\n",
        "4. For each unique user initilize a bias value $B_{i}$ to zero, so if we have $N$ users $B$ will be a $N$ dimensional vector, the $i^{th}$ value of the $B$ will corresponds to the bias term for $i^{th}$ user (write your code in <font color='blue'>def initialize()</font>)\n",
        "\n",
        "5. For each unique movie initilize a bias value $C_{j}$ zero, so if we have $M$ movies $C$ will be a $M$ dimensional vector, the $j^{th}$ value of the $C$ will corresponds to the bias term for $j^{th}$ movie (write your code in <font color='blue'>def initialize()</font>)\n",
        "\n",
        "6. Compute dL/db_i (Write you code in <font color='blue'> def derivative_db()</font>)\n",
        "7. Compute dL/dc_j(write your code in <font color='blue'> def derivative_dc()</font>\n",
        "\n",
        "8. Print the mean squared error with predicted ratings.\n",
        "\n",
        "<pre>\n",
        "for each epoch:\n",
        "    for each pair of (user, movie):\n",
        "        b_i =  b_i - learning_rate * dL/db_i\n",
        "        c_j =  c_j - learning_rate * dL/dc_j\n",
        "predict the ratings with formula\n",
        "</pre>\n",
        "$\\hat{y}_{ij} = \\mu + b_i + c_j + \\text{dot_product}(u_i , v_j) $\n",
        "\n",
        "9. you can choose any learning rate and regularization term in the range $10^{-3}  \\text{ to } 10^2$  <br>\n",
        "  \n",
        "10. __bonus__: instead of using SVD decomposition you can learn the vectors $u_i$, $v_j$ with the help of SGD algo similar to $b_i$ and $c_j$ "
      ]
    },
    {
      "cell_type": "markdown",
      "metadata": {
        "id": "3-aBnRepA6gy"
      },
      "source": [
        "<br>"
      ]
    },
    {
      "cell_type": "markdown",
      "metadata": {
        "id": "IP_6xMAZA4mE"
      },
      "source": [
        " # <font color='red'>Task 2 </font>"
      ]
    },
    {
      "cell_type": "markdown",
      "metadata": {
        "id": "-9HCN_3WA2au"
      },
      "source": [
        "As we know U is the learned matrix of user vectors, with its i-th row as the vector ui for user i. Each row of U can be seen as a \"feature vector\" for a particular user.\n",
        "\n",
        "The question we'd like to investigate is this: do our computed per-user features that are optimized for predicting movie ratings contain anything to do with gender?\n",
        "\n",
        "The provided data file <a href='https://drive.google.com/open?id=1PHFdJh_4gIPiLH5Q4UErH8GK71hTrzlY'>user_info.csv</a> contains an is_male column indicating which users in the dataset are male. Can you predict this signal given the features U?\n",
        "\n",
        "\n",
        "> __Note 1__ : there is no train test split in the data, the goal of this assignment is to give an intution about how to do matrix factorization with the help of SGD and application of truncated SVD. for better understanding of the collabarative fillerting please check netflix case study. <br><br>\n",
        "> __Note 2__ : Check if scaling of $U$, $V$ matrices improve the metric "
      ]
    },
    {
      "cell_type": "markdown",
      "metadata": {
        "id": "ovFCo1JCBIXM"
      },
      "source": [
        "<br>\n",
        "\n",
        "\n",
        "<br>"
      ]
    },
    {
      "cell_type": "markdown",
      "metadata": {
        "id": "iVJo-3njBQLf"
      },
      "source": [
        "<font color='red'> Reading the csv file </font>"
      ]
    },
    {
      "cell_type": "code",
      "metadata": {
        "id": "hEhmfRD637EW",
        "colab": {
          "base_uri": "https://localhost:8080/",
          "height": 195
        },
        "outputId": "59fb7098-67f2-4eb0-cf0d-c6265b71f446"
      },
      "source": [
        "import pandas as pd\n",
        "from sklearn import linear_model\n",
        "from sklearn.metrics import mean_squared_error\n",
        "data=pd.read_csv('ratings_train.csv')\n",
        "data.head()"
      ],
      "execution_count": 1,
      "outputs": [
        {
          "output_type": "execute_result",
          "data": {
            "text/html": [
              "<div>\n",
              "<style scoped>\n",
              "    .dataframe tbody tr th:only-of-type {\n",
              "        vertical-align: middle;\n",
              "    }\n",
              "\n",
              "    .dataframe tbody tr th {\n",
              "        vertical-align: top;\n",
              "    }\n",
              "\n",
              "    .dataframe thead th {\n",
              "        text-align: right;\n",
              "    }\n",
              "</style>\n",
              "<table border=\"1\" class=\"dataframe\">\n",
              "  <thead>\n",
              "    <tr style=\"text-align: right;\">\n",
              "      <th></th>\n",
              "      <th>user_id</th>\n",
              "      <th>item_id</th>\n",
              "      <th>rating</th>\n",
              "    </tr>\n",
              "  </thead>\n",
              "  <tbody>\n",
              "    <tr>\n",
              "      <th>0</th>\n",
              "      <td>772</td>\n",
              "      <td>36</td>\n",
              "      <td>3</td>\n",
              "    </tr>\n",
              "    <tr>\n",
              "      <th>1</th>\n",
              "      <td>471</td>\n",
              "      <td>228</td>\n",
              "      <td>5</td>\n",
              "    </tr>\n",
              "    <tr>\n",
              "      <th>2</th>\n",
              "      <td>641</td>\n",
              "      <td>401</td>\n",
              "      <td>4</td>\n",
              "    </tr>\n",
              "    <tr>\n",
              "      <th>3</th>\n",
              "      <td>312</td>\n",
              "      <td>98</td>\n",
              "      <td>4</td>\n",
              "    </tr>\n",
              "    <tr>\n",
              "      <th>4</th>\n",
              "      <td>58</td>\n",
              "      <td>504</td>\n",
              "      <td>5</td>\n",
              "    </tr>\n",
              "  </tbody>\n",
              "</table>\n",
              "</div>"
            ],
            "text/plain": [
              "   user_id  item_id  rating\n",
              "0      772       36       3\n",
              "1      471      228       5\n",
              "2      641      401       4\n",
              "3      312       98       4\n",
              "4       58      504       5"
            ]
          },
          "metadata": {
            "tags": []
          },
          "execution_count": 1
        }
      ]
    },
    {
      "cell_type": "code",
      "metadata": {
        "id": "66ibGJ74hCde",
        "colab": {
          "base_uri": "https://localhost:8080/"
        },
        "outputId": "d7879e45-4c3b-4cd2-c444-f4af5881d968"
      },
      "source": [
        "data.shape"
      ],
      "execution_count": 2,
      "outputs": [
        {
          "output_type": "execute_result",
          "data": {
            "text/plain": [
              "(89992, 3)"
            ]
          },
          "metadata": {
            "tags": []
          },
          "execution_count": 2
        }
      ]
    },
    {
      "cell_type": "markdown",
      "metadata": {
        "id": "mvB8SDS_hW03"
      },
      "source": [
        "<font color='red'>Create your adjacency matrix </font>"
      ]
    },
    {
      "cell_type": "markdown",
      "metadata": {
        "id": "89VZIjL0swE6"
      },
      "source": [
        "Took this example as reference to create adjacency matrix from https://docs.scipy.org/doc/scipy/reference/generated/scipy.sparse.csr_matrix.html \n",
        "![image.png](data:image/png;base64,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) "
      ]
    },
    {
      "cell_type": "code",
      "metadata": {
        "id": "t44MNT40hZQW"
      },
      "source": [
        "from scipy.sparse import csr_matrix\n",
        "adjacency_matrix = csr_matrix((data.rating.values,(data.user_id.values,data.item_id.values))).toarray() # write your code of adjacency matrix here"
      ],
      "execution_count": 3,
      "outputs": []
    },
    {
      "cell_type": "code",
      "metadata": {
        "id": "-mCgC0WbhZTO",
        "colab": {
          "base_uri": "https://localhost:8080/"
        },
        "outputId": "374142e7-028d-45c9-c312-5b4fdf87017c"
      },
      "source": [
        "adjacency_matrix.shape"
      ],
      "execution_count": 4,
      "outputs": [
        {
          "output_type": "execute_result",
          "data": {
            "text/plain": [
              "(943, 1681)"
            ]
          },
          "metadata": {
            "tags": []
          },
          "execution_count": 4
        }
      ]
    },
    {
      "cell_type": "markdown",
      "metadata": {
        "id": "4acJD4ujEtD6"
      },
      "source": [
        "<font color='cyan'>Grader function - 1</font>"
      ]
    },
    {
      "cell_type": "code",
      "metadata": {
        "id": "2QuTzFBREsDV",
        "colab": {
          "base_uri": "https://localhost:8080/"
        },
        "outputId": "c4bd22dc-241a-4a07-cf71-be06ea485735"
      },
      "source": [
        "def grader_matrix(matrix):\n",
        "  assert(matrix.shape==(943,1681))\n",
        "  return True\n",
        "grader_matrix(adjacency_matrix)"
      ],
      "execution_count": 5,
      "outputs": [
        {
          "output_type": "execute_result",
          "data": {
            "text/plain": [
              "True"
            ]
          },
          "metadata": {
            "tags": []
          },
          "execution_count": 5
        }
      ]
    },
    {
      "cell_type": "markdown",
      "metadata": {
        "id": "gXDf1RCUBsYN"
      },
      "source": [
        "<font color='red'> SVD decompostion</font>"
      ]
    },
    {
      "cell_type": "markdown",
      "metadata": {
        "id": "OJPWI9VwD_ih"
      },
      "source": [
        "Sample code for SVD decompostion"
      ]
    },
    {
      "cell_type": "code",
      "metadata": {
        "id": "GATD35bmBszc",
        "colab": {
          "base_uri": "https://localhost:8080/"
        },
        "outputId": "a99b6e10-26e4-4153-81f0-9ce4ba0bba9a"
      },
      "source": [
        "from sklearn.utils.extmath import randomized_svd\n",
        "import numpy as np \n",
        "matrix = np.random.random((20, 10))\n",
        "U, Sigma, VT = randomized_svd(matrix, n_components=5,n_iter=5, random_state=None)\n",
        "print(U.shape)\n",
        "print(Sigma.shape)\n",
        "print(VT.T.shape)"
      ],
      "execution_count": 6,
      "outputs": [
        {
          "output_type": "stream",
          "text": [
            "(20, 5)\n",
            "(5,)\n",
            "(10, 5)\n"
          ],
          "name": "stdout"
        }
      ]
    },
    {
      "cell_type": "markdown",
      "metadata": {
        "id": "ePDgwALQEJoB"
      },
      "source": [
        "<font color='red'>Write your code for SVD decompostion</font>"
      ]
    },
    {
      "cell_type": "code",
      "metadata": {
        "id": "ZYnsKBmFEIg3",
        "colab": {
          "base_uri": "https://localhost:8080/"
        },
        "outputId": "bc80517f-9417-4c94-e7b8-99ec5928dd55"
      },
      "source": [
        "# Please use adjacency_matrix as matrix for SVD decompostion\n",
        "# You can choose n_components as your choice\n",
        "matrix = np.random.random((943, 1681))                                          #Taking the shape of adj matrix\n",
        "U, Sigma, VT = randomized_svd(adjacency_matrix, n_components=50,n_iter=50, random_state=None)\n",
        "print(U.shape)\n",
        "print(Sigma.shape)\n",
        "print(VT.T.shape)"
      ],
      "execution_count": 7,
      "outputs": [
        {
          "output_type": "stream",
          "text": [
            "(943, 50)\n",
            "(50,)\n",
            "(1681, 50)\n"
          ],
          "name": "stdout"
        }
      ]
    },
    {
      "cell_type": "markdown",
      "metadata": {
        "id": "83Vh4NoO_JyU"
      },
      "source": [
        "<font color='red'>Compute mean of ratings</font>"
      ]
    },
    {
      "cell_type": "code",
      "metadata": {
        "id": "cBHuCn2QSEnl"
      },
      "source": [
        "def m_u(ratings):\n",
        "    '''In this function, we will compute mean for all the ratings'''\n",
        "    # you can use mean() function to do this\n",
        "    # check this (https://pandas.pydata.org/pandas-docs/stable/reference/api/pandas.DataFrame.mean.html) link for more details.\n",
        "\n",
        "\n",
        "    return ratings.mean()"
      ],
      "execution_count": 8,
      "outputs": []
    },
    {
      "cell_type": "code",
      "metadata": {
        "id": "iu1nn-1x3ebp",
        "colab": {
          "base_uri": "https://localhost:8080/"
        },
        "outputId": "3c8c02a4-b737-4e21-ed6a-fb094fa3a8a8"
      },
      "source": [
        "mu=m_u(data['rating'])\n",
        "print(mu)"
      ],
      "execution_count": 9,
      "outputs": [
        {
          "output_type": "stream",
          "text": [
            "3.529480398257623\n"
          ],
          "name": "stdout"
        }
      ]
    },
    {
      "cell_type": "markdown",
      "metadata": {
        "id": "76ooYQIdG_tf"
      },
      "source": [
        "<font color='cyan'>Grader function -2 </font>"
      ]
    },
    {
      "cell_type": "code",
      "metadata": {
        "id": "TZy1m67oG9r9",
        "colab": {
          "base_uri": "https://localhost:8080/"
        },
        "outputId": "7c206b78-4958-4f4d-c364-2997dcf29351"
      },
      "source": [
        "def grader_mean(mu):\n",
        "  assert(np.round(mu,3)==3.529)\n",
        "  return True\n",
        "mu=m_u(data['rating'])\n",
        "grader_mean(mu)"
      ],
      "execution_count": 10,
      "outputs": [
        {
          "output_type": "execute_result",
          "data": {
            "text/plain": [
              "True"
            ]
          },
          "metadata": {
            "tags": []
          },
          "execution_count": 10
        }
      ]
    },
    {
      "cell_type": "markdown",
      "metadata": {
        "id": "qSvAW1X94g3G"
      },
      "source": [
        "<font color='red'>Initialize $B_{i}$ and $C_{j}$"
      ]
    },
    {
      "cell_type": "markdown",
      "metadata": {
        "id": "qsOl-4xq5aUG"
      },
      "source": [
        "Hint : Number of rows of adjacent matrix corresponds to user dimensions($B_{i}$), number of columns of adjacent matrix corresponds to movie dimensions ($C_{j}$)"
      ]
    },
    {
      "cell_type": "code",
      "metadata": {
        "id": "AyEJqPka4lBW"
      },
      "source": [
        "def initialize(dim):\n",
        "    '''In this function, we will initialize bias value 'B' and 'C'.'''\n",
        "    # initalize the value to zeros \n",
        "    # return output as a list of zeros \n",
        "    initval=np.zeros(dim)\n",
        "    \n",
        "\n",
        "    return initval"
      ],
      "execution_count": 11,
      "outputs": []
    },
    {
      "cell_type": "code",
      "metadata": {
        "id": "Nlae9QAQ43Xz"
      },
      "source": [
        "dim=943 # give the number of dimensions for b_i (Here b_i corresponds to users)\n",
        "b_i=initialize(dim)"
      ],
      "execution_count": 12,
      "outputs": []
    },
    {
      "cell_type": "code",
      "metadata": {
        "id": "rwuopn4HoEbP"
      },
      "source": [
        "dim=1681  # give the number of dimensions for c_j (Here c_j corresponds to movies)\n",
        "c_j=initialize(dim)"
      ],
      "execution_count": 13,
      "outputs": []
    },
    {
      "cell_type": "markdown",
      "metadata": {
        "id": "nfPJ3_h6JIkI"
      },
      "source": [
        "<font color='cyan'>Grader function -3 </font>"
      ]
    },
    {
      "cell_type": "code",
      "metadata": {
        "id": "dQhiNjw0Hz4m",
        "colab": {
          "base_uri": "https://localhost:8080/"
        },
        "outputId": "d7bd0231-3754-479e-eefd-8ebf3ec561ab"
      },
      "source": [
        "def grader_dim(b_i,c_j):\n",
        "  assert(len(b_i)==943 and np.sum(b_i)==0)\n",
        "  assert(len(c_j)==1681 and np.sum(c_j)==0)\n",
        "  return True\n",
        "grader_dim(b_i,c_j)"
      ],
      "execution_count": 14,
      "outputs": [
        {
          "output_type": "execute_result",
          "data": {
            "text/plain": [
              "True"
            ]
          },
          "metadata": {
            "tags": []
          },
          "execution_count": 14
        }
      ]
    },
    {
      "cell_type": "markdown",
      "metadata": {
        "id": "DTDK4ZR18MrZ"
      },
      "source": [
        "<font color='red'>Compute dL/db_i</font>"
      ]
    },
    {
      "cell_type": "code",
      "metadata": {
        "id": "3NFzVC1N8S4L"
      },
      "source": [
        "def derivative_db(user_id,item_id,rating,U,V,mu,alpha):\n",
        "    '''In this function, we will compute dL/db_i'''\n",
        "    deri_db=2*alpha*b_i[user_id]-2*(rating -mu-b_i[user_id]-c_j[item_id]- np.dot(U[user_id].T,V[:,item_id]))\n",
        "    return deri_db\n"
      ],
      "execution_count": 15,
      "outputs": []
    },
    {
      "cell_type": "markdown",
      "metadata": {
        "id": "ilISrTeQ0f0v"
      },
      "source": [
        "<font color='cyan'>Grader function -4 </font>"
      ]
    },
    {
      "cell_type": "code",
      "metadata": {
        "id": "Wt5ixEVZ043U",
        "colab": {
          "base_uri": "https://localhost:8080/"
        },
        "outputId": "2d19dbf3-f659-4b9f-ff74-37fcd1a79fc2"
      },
      "source": [
        "def grader_db(value):\n",
        "    assert(np.round(value,3)==-0.931)\n",
        "    return True\n",
        "U1, Sigma, V1 = randomized_svd(adjacency_matrix, n_components=2,n_iter=5, random_state=24)\n",
        "# Please don't change random state\n",
        "# Here we are considering n_componets = 2 for our convinence\n",
        "alpha=0.01 \n",
        "value=derivative_db(312,98,4,U1,V1,mu,alpha)\n",
        "grader_db(value)"
      ],
      "execution_count": 16,
      "outputs": [
        {
          "output_type": "execute_result",
          "data": {
            "text/plain": [
              "True"
            ]
          },
          "metadata": {
            "tags": []
          },
          "execution_count": 16
        }
      ]
    },
    {
      "cell_type": "markdown",
      "metadata": {
        "id": "1Kp0hC_b9v60"
      },
      "source": [
        "<font color='red'>Compute dL/dc_j</font>"
      ]
    },
    {
      "cell_type": "code",
      "metadata": {
        "id": "FAtSYMrc9UqJ"
      },
      "source": [
        "def derivative_dc(user_id,item_id,rating,U,V,mu, alpha):\n",
        "    '''In this function, we will compute dL/dc_j'''\n",
        "    deri_dc=2*alpha*c_j[item_id]-2*(rating -mu-b_i[user_id]-c_j[item_id]- np.dot(U[user_id].T,V[:,item_id]))\n",
        "    return deri_dc\n"
      ],
      "execution_count": 17,
      "outputs": []
    },
    {
      "cell_type": "markdown",
      "metadata": {
        "id": "lxkAm8aH1SBF"
      },
      "source": [
        "<font color='cyan'>Grader function - 5 </font>"
      ]
    },
    {
      "cell_type": "code",
      "metadata": {
        "id": "RaIN9yie1US8",
        "colab": {
          "base_uri": "https://localhost:8080/"
        },
        "outputId": "f011d888-6d8b-452d-f78d-0670b76fa336"
      },
      "source": [
        "def grader_dc(value):\n",
        "    assert(np.round(value,3)==-2.929)\n",
        "    return True\n",
        "U1, Sigma, V1 = randomized_svd(adjacency_matrix, n_components=2,n_iter=5, random_state=24)\n",
        "# Please don't change random state\n",
        "# Here we are considering n_componets = 2 for our convinence\n",
        "r=0.01 \n",
        "value=derivative_dc(58,504,5,U1,V1,mu,r)\n",
        "grader_dc(value)"
      ],
      "execution_count": 18,
      "outputs": [
        {
          "output_type": "execute_result",
          "data": {
            "text/plain": [
              "True"
            ]
          },
          "metadata": {
            "tags": []
          },
          "execution_count": 18
        }
      ]
    },
    {
      "cell_type": "markdown",
      "metadata": {
        "id": "lg5XNbDWCIKI"
      },
      "source": [
        "<font color='red'>Compute MSE (mean squared error) for predicted ratings</font>\n"
      ]
    },
    {
      "cell_type": "markdown",
      "metadata": {
        "id": "7WUjNy0TDQX6"
      },
      "source": [
        "for each epoch, print the MSE value"
      ]
    },
    {
      "cell_type": "markdown",
      "metadata": {
        "id": "D2pCy1AKCafw"
      },
      "source": [
        "<pre>\n",
        "for each epoch:\n",
        "\n",
        "    for each pair of (user, movie):\n",
        "\n",
        "        b_i =  b_i - learning_rate * dL/db_i\n",
        "\n",
        "        c_j =  c_j - learning_rate * dL/dc_j\n",
        "\n",
        "predict the ratings with formula\n",
        "</pre>\n",
        "\n",
        "$\\hat{y}_{ij} = \\mu + b_i + c_j + \\text{dot_product}(u_i , v_j) $"
      ]
    },
    {
      "cell_type": "code",
      "metadata": {
        "id": "kiKj-M6d2a-Y",
        "colab": {
          "base_uri": "https://localhost:8080/"
        },
        "outputId": "9fcacf1b-cd6c-459a-f730-306fefb4ac16"
      },
      "source": [
        "ytrue=data[\"rating\"]\n",
        "mselist=[]\n",
        "for epoch in range(0,50):\n",
        "  yhat_i_j=[] \n",
        "  for i in range(0,data.shape[0]):\n",
        "    each_userid=data[\"user_id\"][i]   #for each user id\n",
        "    each_itemid=data[\"item_id\"][i]   #for each item id/movie id\n",
        "    each_rating=data['rating'][i]    #for each rating\n",
        "    learingrate=0.01                              \n",
        "    b_i[each_userid]=b_i[each_userid]-learingrate*derivative_db(each_userid,each_itemid,each_rating,U,VT,mu,alpha)\n",
        "    c_j[each_itemid]=c_j[each_itemid]-learingrate*derivative_dc(each_userid,each_itemid,each_rating,U,VT,mu,alpha)\n",
        "    yij=mu+b_i[each_userid]+c_j[each_itemid]+np.dot(U[each_userid],VT[:,each_itemid])\n",
        "    yhat_i_j.append(yij)\n",
        "  mse=mean_squared_error(ytrue,yhat_i_j)  \n",
        "  print(\"for epoch = \",epoch+1,\" mean squared error = \",mse)\n",
        "  mselist.append(mse)"
      ],
      "execution_count": 19,
      "outputs": [
        {
          "output_type": "stream",
          "text": [
            "for epoch =  1  mean squared error =  0.9016612201317284\n",
            "for epoch =  2  mean squared error =  0.8188711124158863\n",
            "for epoch =  3  mean squared error =  0.8036075980524513\n",
            "for epoch =  4  mean squared error =  0.7972627401837384\n",
            "for epoch =  5  mean squared error =  0.7939833677416877\n",
            "for epoch =  6  mean squared error =  0.7920474787280887\n",
            "for epoch =  7  mean squared error =  0.7907915102065934\n",
            "for epoch =  8  mean squared error =  0.7899167283674415\n",
            "for epoch =  9  mean squared error =  0.7892733191549377\n",
            "for epoch =  10  mean squared error =  0.7887796743277776\n",
            "for epoch =  11  mean squared error =  0.7883882369574673\n",
            "for epoch =  12  mean squared error =  0.7880696684307429\n",
            "for epoch =  13  mean squared error =  0.7878049629239718\n",
            "for epoch =  14  mean squared error =  0.7875812793209198\n",
            "for epoch =  15  mean squared error =  0.78738962210329\n",
            "for epoch =  16  mean squared error =  0.7872234911466951\n",
            "for epoch =  17  mean squared error =  0.7870780630287462\n",
            "for epoch =  18  mean squared error =  0.7869496761136575\n",
            "for epoch =  19  mean squared error =  0.7868354958324734\n",
            "for epoch =  20  mean squared error =  0.7867332905399582\n",
            "for epoch =  21  mean squared error =  0.7866412773621675\n",
            "for epoch =  22  mean squared error =  0.7865580136168023\n",
            "for epoch =  23  mean squared error =  0.7864823186826025\n",
            "for epoch =  24  mean squared error =  0.7864132166961232\n",
            "for epoch =  25  mean squared error =  0.7863498938015833\n",
            "for epoch =  26  mean squared error =  0.786291665768208\n",
            "for epoch =  27  mean squared error =  0.7862379531239135\n",
            "for epoch =  28  mean squared error =  0.7861882618255362\n",
            "for epoch =  29  mean squared error =  0.7861421680664397\n",
            "for epoch =  30  mean squared error =  0.7860993062165704\n",
            "for epoch =  31  mean squared error =  0.7860593591624209\n",
            "for epoch =  32  mean squared error =  0.7860220505055913\n",
            "for epoch =  33  mean squared error =  0.7859871382149616\n",
            "for epoch =  34  mean squared error =  0.7859544094259676\n",
            "for epoch =  35  mean squared error =  0.7859236761525639\n",
            "for epoch =  36  mean squared error =  0.7858947717308638\n",
            "for epoch =  37  mean squared error =  0.7858675478534198\n",
            "for epoch =  38  mean squared error =  0.7858418720833709\n",
            "for epoch =  39  mean squared error =  0.7858176257607749\n",
            "for epoch =  40  mean squared error =  0.7857947022312487\n",
            "for epoch =  41  mean squared error =  0.7857730053408641\n",
            "for epoch =  42  mean squared error =  0.7857524481520602\n",
            "for epoch =  43  mean squared error =  0.7857329518438606\n",
            "for epoch =  44  mean squared error =  0.7857144447664514\n",
            "for epoch =  45  mean squared error =  0.7856968616255625\n",
            "for epoch =  46  mean squared error =  0.785680142776433\n",
            "for epoch =  47  mean squared error =  0.7856642336106338\n",
            "for epoch =  48  mean squared error =  0.7856490840218534\n",
            "for epoch =  49  mean squared error =  0.7856346479390627\n",
            "for epoch =  50  mean squared error =  0.7856208829173602\n"
          ],
          "name": "stdout"
        }
      ]
    },
    {
      "cell_type": "code",
      "metadata": {
        "colab": {
          "base_uri": "https://localhost:8080/"
        },
        "id": "7R76n91xGfLI",
        "outputId": "91d3e584-cdbb-4d94-dad6-97c2299d5e89"
      },
      "source": [
        "print(\"The optimal mean squared error value is: \",np.round(mselist[-1],4))"
      ],
      "execution_count": 20,
      "outputs": [
        {
          "output_type": "stream",
          "text": [
            "The optimal mean squared error value is:  0.7856\n"
          ],
          "name": "stdout"
        }
      ]
    },
    {
      "cell_type": "markdown",
      "metadata": {
        "id": "hTXYZFFUVSg5"
      },
      "source": [
        "<font color='red'>Plot epoch number vs MSE </font>\n",
        "\n",
        "* epoch number on X-axis\n",
        "* MSE on Y-axis"
      ]
    },
    {
      "cell_type": "code",
      "metadata": {
        "id": "igkkO3EvVRt6",
        "colab": {
          "base_uri": "https://localhost:8080/",
          "height": 295
        },
        "outputId": "500c3b1b-f004-4039-b6e6-38fa6a06022b"
      },
      "source": [
        "import matplotlib.pyplot as plt\n",
        "epos=list(range(0,50))\n",
        "plt.plot(epos,mselist,label='mean sqd error',color='red')\n",
        "plt.xlabel(\"epochs\")\n",
        "plt.ylabel(\"MSE\")\n",
        "plt.title(\"MSE vs epoch\")\n",
        "plt.legend()\n",
        "plt.grid()\n",
        "plt.show()"
      ],
      "execution_count": 21,
      "outputs": [
        {
          "output_type": "display_data",
          "data": {
            "image/png": "[encoded data removed]",
            "text/plain": [
              "<Figure size 432x288 with 1 Axes>"
            ]
          },
          "metadata": {
            "tags": [],
            "needs_background": "light"
          }
        }
      ]
    },
    {
      "cell_type": "markdown",
      "metadata": {
        "id": "NeWAGkT6C9kq"
      },
      "source": [
        "<br>"
      ]
    },
    {
      "cell_type": "markdown",
      "metadata": {
        "id": "lkIQOOo1C9o7"
      },
      "source": [
        "<font color='red'> Task 2</font>"
      ]
    },
    {
      "cell_type": "markdown",
      "metadata": {
        "id": "gab_ph0043z9"
      },
      "source": [
        "# **Building Logistic Regression model**"
      ]
    },
    {
      "cell_type": "code",
      "metadata": {
        "id": "9kl4Ryi_7E_T",
        "colab": {
          "base_uri": "https://localhost:8080/",
          "height": 195
        },
        "outputId": "b96dc689-9023-4065-9d87-56abc2b6b3bb"
      },
      "source": [
        "t2_data = pd.read_csv('user_info.csv.txt')\n",
        "t2_data.head()"
      ],
      "execution_count": 22,
      "outputs": [
        {
          "output_type": "execute_result",
          "data": {
            "text/html": [
              "<div>\n",
              "<style scoped>\n",
              "    .dataframe tbody tr th:only-of-type {\n",
              "        vertical-align: middle;\n",
              "    }\n",
              "\n",
              "    .dataframe tbody tr th {\n",
              "        vertical-align: top;\n",
              "    }\n",
              "\n",
              "    .dataframe thead th {\n",
              "        text-align: right;\n",
              "    }\n",
              "</style>\n",
              "<table border=\"1\" class=\"dataframe\">\n",
              "  <thead>\n",
              "    <tr style=\"text-align: right;\">\n",
              "      <th></th>\n",
              "      <th>user_id</th>\n",
              "      <th>age</th>\n",
              "      <th>is_male</th>\n",
              "      <th>orig_user_id</th>\n",
              "    </tr>\n",
              "  </thead>\n",
              "  <tbody>\n",
              "    <tr>\n",
              "      <th>0</th>\n",
              "      <td>0</td>\n",
              "      <td>24</td>\n",
              "      <td>1</td>\n",
              "      <td>1</td>\n",
              "    </tr>\n",
              "    <tr>\n",
              "      <th>1</th>\n",
              "      <td>1</td>\n",
              "      <td>53</td>\n",
              "      <td>0</td>\n",
              "      <td>2</td>\n",
              "    </tr>\n",
              "    <tr>\n",
              "      <th>2</th>\n",
              "      <td>2</td>\n",
              "      <td>23</td>\n",
              "      <td>1</td>\n",
              "      <td>3</td>\n",
              "    </tr>\n",
              "    <tr>\n",
              "      <th>3</th>\n",
              "      <td>3</td>\n",
              "      <td>24</td>\n",
              "      <td>1</td>\n",
              "      <td>4</td>\n",
              "    </tr>\n",
              "    <tr>\n",
              "      <th>4</th>\n",
              "      <td>4</td>\n",
              "      <td>33</td>\n",
              "      <td>0</td>\n",
              "      <td>5</td>\n",
              "    </tr>\n",
              "  </tbody>\n",
              "</table>\n",
              "</div>"
            ],
            "text/plain": [
              "   user_id  age  is_male  orig_user_id\n",
              "0        0   24        1             1\n",
              "1        1   53        0             2\n",
              "2        2   23        1             3\n",
              "3        3   24        1             4\n",
              "4        4   33        0             5"
            ]
          },
          "metadata": {
            "tags": []
          },
          "execution_count": 22
        }
      ]
    },
    {
      "cell_type": "code",
      "metadata": {
        "id": "c1FTc39gDdti",
        "colab": {
          "base_uri": "https://localhost:8080/"
        },
        "outputId": "e19f17ff-379b-4a5b-fd4c-2fc6c969c2e2"
      },
      "source": [
        "Ynew = t2_data['is_male']\n",
        "sgdlogreg = linear_model.SGDClassifier(loss='log',alpha=0.001,max_iter=1000,eta0=0.001,penalty='l2')\n",
        "sgdlogreg.fit(U,Ynew)"
      ],
      "execution_count": 23,
      "outputs": [
        {
          "output_type": "execute_result",
          "data": {
            "text/plain": [
              "SGDClassifier(alpha=0.001, average=False, class_weight=None,\n",
              "              early_stopping=False, epsilon=0.1, eta0=0.001, fit_intercept=True,\n",
              "              l1_ratio=0.15, learning_rate='optimal', loss='log', max_iter=1000,\n",
              "              n_iter_no_change=5, n_jobs=None, penalty='l2', power_t=0.5,\n",
              "              random_state=None, shuffle=True, tol=0.001,\n",
              "              validation_fraction=0.1, verbose=0, warm_start=False)"
            ]
          },
          "metadata": {
            "tags": []
          },
          "execution_count": 23
        }
      ]
    },
    {
      "cell_type": "code",
      "metadata": {
        "id": "aqC0BfbiFg85"
      },
      "source": [
        "Ynewpred = sgdlogreg.predict(U)"
      ],
      "execution_count": 24,
      "outputs": []
    },
    {
      "cell_type": "code",
      "metadata": {
        "colab": {
          "base_uri": "https://localhost:8080/",
          "height": 282
        },
        "id": "YurA2qAMVPFR",
        "outputId": "da7f5e57-33c0-4cf6-a775-214800268c2c"
      },
      "source": [
        "from sklearn.metrics import confusion_matrix \n",
        "import seaborn as sns                                                                                        \n",
        "conf_matrix = confusion_matrix(Ynew, Ynewpred)\n",
        "sns.heatmap(conf_matrix, annot=True, fmt=\"d\")"
      ],
      "execution_count": 26,
      "outputs": [
        {
          "output_type": "execute_result",
          "data": {
            "text/plain": [
              "<matplotlib.axes._subplots.AxesSubplot at 0x7fa01ef39790>"
            ]
          },
          "metadata": {
            "tags": []
          },
          "execution_count": 26
        },
        {
          "output_type": "display_data",
          "data": {
            "image/png": "[encoded data removed]",
            "text/plain": [
              "<Figure size 432x288 with 2 Axes>"
            ]
          },
          "metadata": {
            "tags": [],
            "needs_background": "light"
          }
        }
      ]
    }
  ]
}