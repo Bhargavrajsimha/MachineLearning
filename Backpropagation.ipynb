{
  "nbformat": 4,
  "nbformat_minor": 0,
  "metadata": {
    "colab": {
      "name": "Backpropagation_assignment.ipynb",
      "provenance": [],
      "collapsed_sections": []
    },
    "kernelspec": {
      "name": "python3",
      "display_name": "Python 3"
    }
  },
  "cells": [
    {
      "cell_type": "markdown",
      "metadata": {
        "id": "y871RZtRhCEH"
      },
      "source": [
        "# <font color='red'>BackPropagation</font>"
      ]
    },
    {
      "cell_type": "markdown",
      "metadata": {
        "id": "LqePYi-4mFvK"
      },
      "source": [
        "**There will be some functions that start with the word \"grader\" ex: grader_sigmoid(), grader_forwardprop(), grader_backprop() etc, you should not change those function definition.<br><br>Every Grader function has to return True.**"
      ]
    },
    {
      "cell_type": "markdown",
      "metadata": {
        "id": "0huUQ0byiI0I"
      },
      "source": [
        "## <font color='red'>Loading data </font>"
      ]
    },
    {
      "cell_type": "code",
      "metadata": {
        "id": "1hSje5CBgcUb",
        "colab": {
          "base_uri": "https://localhost:8080/"
        },
        "outputId": "3bbc1a90-0cf8-41b1-acda-08d7338eac5f"
      },
      "source": [
        "import pickle\n",
        "import numpy as np\n",
        "from tqdm import tqdm\n",
        "import matplotlib.pyplot as plt\n",
        "\n",
        "with open('data.pkl', 'rb') as f:\n",
        "    data = pickle.load(f)\n",
        "print(data.shape)\n",
        "X = data[:, :5]\n",
        "y = data[:, -1]\n",
        "print(X.shape, y.shape)"
      ],
      "execution_count": 1,
      "outputs": [
        {
          "output_type": "stream",
          "text": [
            "(506, 6)\n",
            "(506, 5) (506,)\n"
          ],
          "name": "stdout"
        }
      ]
    },
    {
      "cell_type": "markdown",
      "metadata": {
        "id": "5JL-0soQistC"
      },
      "source": [
        "# <font color='red'>Computational graph</font>"
      ]
    },
    {
      "cell_type": "markdown",
      "metadata": {
        "id": "nREnTTJ3i0Vd"
      },
      "source": [
        "<img src='https://i.imgur.com/seSGbNS.png'>"
      ]
    },
    {
      "cell_type": "markdown",
      "metadata": {
        "id": "DSPX_H_4i_HT"
      },
      "source": [
        "\n",
        "*  **If you observe the graph, we are having input features [f1, f2, f3, f4, f5] and 9 weights [w1, w2, w3, w4, w5, w6,    w7, w8, w9]**.<br><br>\n",
        "*  **The final output of this graph is a value L which is computed as (Y-Y')^2** "
      ]
    },
    {
      "cell_type": "markdown",
      "metadata": {
        "id": "D54eDEv6jkO4"
      },
      "source": [
        "# <font color='red'>Task 1: Implementing backpropagation and Gradient checking </font>"
      ]
    },
    {
      "cell_type": "markdown",
      "metadata": {
        "id": "qocI1Vzqkod9"
      },
      "source": [
        "<font color='blue'><b>Check this video for better understanding of the computational graphs and back propagation</font>"
      ]
    },
    {
      "cell_type": "code",
      "metadata": {
        "id": "Wb5WMdwJinlX",
        "colab": {
          "base_uri": "https://localhost:8080/",
          "height": 521
        },
        "outputId": "0ee72063-b38c-474e-e352-bc7aadfd96ef"
      },
      "source": [
        "from IPython.display import YouTubeVideo\n",
        "YouTubeVideo('i94OvYb6noo',width=\"1000\",height=\"500\")"
      ],
      "execution_count": 2,
      "outputs": [
        {
          "output_type": "execute_result",
          "data": {
            "text/html": [
              "\n",
              "        <iframe\n",
              "            width=\"1000\"\n",
              "            height=\"500\"\n",
              "            src=\"https://www.youtube.com/embed/i94OvYb6noo\"\n",
              "            frameborder=\"0\"\n",
              "            allowfullscreen\n",
              "        ></iframe>\n",
              "        "
            ],
            "text/plain": [
              "<IPython.lib.display.YouTubeVideo at 0x7fd985d60310>"
            ],
            "image/jpeg": "[encoded data removed]"
          },
          "metadata": {
            "tags": []
          },
          "execution_count": 2
        }
      ]
    },
    {
      "cell_type": "markdown",
      "metadata": {
        "id": "2jecTyVRlh-6"
      },
      "source": [
        "\n",
        "*  <b>Write two functions<br>\n",
        "    *  Forward propagation</b>(Write your code in<font color='blue'> def forward_propagation()</b></font>)<br><br>\n",
        "    For easy debugging, we will break the computational graph into 3 parts.\n",
        "\n",
        "    <font color='green'><b>Part 1</b></font></b>\n",
        "    <img src='https://i.imgur.com/0xUaxy6.png'><br><br>\n",
        "    <font color='green'><b>Part 2</b></font></b><br>\n",
        "    <img src='https://i.imgur.com/J29pAJL.png'><br><br>\n",
        "    <font color='green'><b>Part 3</b></font></b>\n",
        "    <img src='https://i.imgur.com/vMyCsd9.png'>\n",
        "\n",
        "    <pre>\n",
        "    <font color='green'>\n",
        "def forward_propagation(X, y, W):\n",
        "        <font color='grey'>\n",
        "        # X: input data point, note that in this assignment you are having 5-d data points\n",
        "        # y: output varible\n",
        "        # W: weight array, its of length 9, W[0] corresponds to w1 in graph, W[1] corresponds to w2 in graph, <br>         ..., W[8] corresponds to w9 in graph.  \n",
        "        # you have to return the following variables\n",
        "        # exp= part1 (compute the forward propagation until exp and then store the values in exp)\n",
        "        # tanh =part2(compute the forward propagation until tanh and then store the values in tanh)\n",
        "        # sig = part3(compute the forward propagation until sigmoid and then store the values in sig)\n",
        "        # now compute remaining values from computional graph and get y'\n",
        "        # write code to compute the value of L=(y-y')^2\n",
        "        # compute derivative of L  w.r.to Y' and store it in dl\n",
        "        # Create a dictionary to store all the intermediate values\n",
        "        # store L, exp,tanh,sig,dl variables\n",
        "        </font>\n",
        "        return (dictionary, which you might need to use for back propagation)\n",
        "        <font color='grey'>\n",
        "        </font>\n",
        "</font>\n",
        "</pre>\n",
        "    *  <b>Backward propagation</b>(Write your code in<font color='blue'> def backward_propagation()</b></font>)\n",
        "    </b>\n",
        "    <pre>\n",
        "    <font color='green'>\n",
        "    def backward_propagation(L, W,dictionary):\n",
        "        <font color='grey'>\n",
        "        # L: the loss we calculated for the current point\n",
        "        # dictionary: the outputs of the forward_propagation() function\n",
        "        # write code to compute the gradients of each weight [w1,w2,w3,...,w9]\n",
        "        # Hint: you can use dict type to store the required variables \n",
        "        # return dW, dW is a dictionary with gradients of all the weights\n",
        "        </font>\n",
        "        return dW\n",
        "        </font>\n",
        "</font>\n",
        "</pre>"
      ]
    },
    {
      "cell_type": "markdown",
      "metadata": {
        "id": "STS4NrQQc6OH"
      },
      "source": [
        " ## <font color='red'>Gradient clipping</font>"
      ]
    },
    {
      "cell_type": "markdown",
      "metadata": {
        "id": "XY7ivRNzdPok"
      },
      "source": [
        "<b> Check this  <a href='https://towardsdatascience.com/how-to-debug-a-neural-network-with-gradient-checking-41deec0357a9'>blog link</a> for more details on Gradient clipping"
      ]
    },
    {
      "cell_type": "markdown",
      "metadata": {
        "id": "BrsfpDoidtZ5"
      },
      "source": [
        " we know that the derivative of any function is\n",
        " \n",
        " $$\\lim_{\\epsilon\\to0}\\frac{f(x+\\epsilon)-f(x-\\epsilon)}{2\\epsilon}$$\n"
      ]
    },
    {
      "cell_type": "markdown",
      "metadata": {
        "id": "vUcmt0kPd02f"
      },
      "source": [
        "*  The definition above can be used as a numerical approximation of the derivative. Taking an epsilon small enough, the calculated approximation will have an error in the range of epsilon squared. \n",
        "\n",
        "*  In other words, if epsilon is 0.001, the approximation will be off by 0.00001.\n",
        "\n",
        "Therefore, we can use this to approximate the gradient, and in turn make sure that backpropagation is implemented properly. This forms the basis of <b>gradient checking!</b>"
      ]
    },
    {
      "cell_type": "markdown",
      "metadata": {
        "id": "pFSu16KCeU0x"
      },
      "source": [
        "## <Font color='blue'>Gradient checking example</font>"
      ]
    },
    {
      "cell_type": "markdown",
      "metadata": {
        "id": "Gz0mmT_xecfC"
      },
      "source": [
        "<font >\n",
        "lets understand the concept with a simple example:\n",
        "$f(w1,w2,x1,x2)=w_{1}^{2} . x_{1} + w_{2} . x_{2}$ \n",
        "\n",
        "from the above function , lets assume $w_{1}=1$, $w_{2}=2$, $x_{1}=3$, $x_{2}=4$ the gradient of $f$ w.r.t $w_{1}$ is\n",
        "\n",
        "\\begin{array} {lcl}\n",
        "\\frac{df}{dw_{1}} = dw_{1} &=&2.w_{1}.x_{1} \\\\& = &2.1.3\\\\& = &6\n",
        "\\end{array}\n",
        "\n",
        "\n",
        "let calculate the aproximate gradient of $w_{1}$ as mentinoned in the above formula and considering $\\epsilon=0.0001$\n",
        "\n",
        "\\begin{array} {lcl}\n",
        "dw_1^{approx} & = & \\frac{f(w1+\\epsilon,w2,x1,x2)-f(w1-\\epsilon,w2,x1,x2)}{2\\epsilon} \\\\ & = & \\frac{((1+0.0001)^{2} . 3 + 2 . 4) - ((1-0.0001)^{2} . 3 + 2 . 4)}{2\\epsilon} \\\\ & = & \\frac{(1.00020001 . 3 + 2 . 4) - (0.99980001. 3 + 2 . 4)}{2*0.0001} \\\\ & = & \\frac{(11.00060003) - (10.99940003)}{0.0002}\\\\ & = & 5.99999999999\n",
        "\\end{array}\n",
        "\n",
        "Then, we apply the following formula for gradient check: <i>gradient_check</i> = \n",
        "$\\frac{\\left\\Vert\\left (dW-dW^{approx}\\rm\\right) \\right\\Vert_2}{\\left\\Vert\\left (dW\\rm\\right) \\right\\Vert_2+\\left\\Vert\\left (dW^{approx}\\rm\\right) \\right\\Vert_2}$\n",
        "\n",
        "The equation above is basically the Euclidean distance normalized by the sum of the norm of the vectors. We use normalization in case that one of the vectors is very small.\n",
        "As a value for epsilon, we usually opt for 1e-7. Therefore, if gradient check return a value less than 1e-7, then it means that backpropagation was implemented correctly. Otherwise, there is potentially a mistake in your implementation. If the value exceeds 1e-3, then you are sure that the code is not correct.\n",
        "\n",
        "in our example: <i>gradient_check</i> $ = \\frac{(6 - 5.999999999994898)}{(6 + 5.999999999994898)} = 4.2514140356330737e^{-13}$\n",
        "\n",
        "you can mathamatically derive the same thing like this\n",
        "\n",
        "\\begin{array} {lcl}\n",
        "dw_1^{approx} & = & \\frac{f(w1+\\epsilon,w2,x1,x2)-f(w1-\\epsilon,w2,x1,x2)}{2\\epsilon} \\\\ & = & \\frac{((w_{1}+\\epsilon)^{2} . x_{1} + w_{2} . x_{2}) - ((w_{1}-\\epsilon)^{2} . x_{1} + w_{2} . x_{2})}{2\\epsilon} \\\\ & = & \\frac{4. \\epsilon.w_{1}. x_{1}}{2\\epsilon} \\\\ & = &  2.w_{1}.x_{1}\n",
        "\\end{array}\n"
      ]
    },
    {
      "cell_type": "markdown",
      "metadata": {
        "id": "f1BFQQaCermK"
      },
      "source": [
        "## <font color='red'> Implement Gradient checking </font> <br>\n",
        " (Write your code in <font color='blue'> def gradient_checking()</font>)"
      ]
    },
    {
      "cell_type": "markdown",
      "metadata": {
        "id": "GqpfA3AqfJba"
      },
      "source": [
        "**Algorithm** \n",
        "\n"
      ]
    },
    {
      "cell_type": "markdown",
      "metadata": {
        "id": "FL39KeRFfNoD"
      },
      "source": [
        "<pre>\n",
        "<font color='darkblue'>\n",
        "W = initilize_randomly\n",
        "def gradient_checking(data_point, W):<font color='grey'>\n",
        "    # compute the L value using forward_propagation()\n",
        "    # compute the gradients of W using backword_propagation()</font>\n",
        "    approx_gradients = []\n",
        "    for each wi weight value in W:<font color='grey'>\n",
        "        # add a small value to weight wi, and then find the values of L with the updated weights\n",
        "        # subtract a small value to weight wi, and then find the values of L with the updated weights\n",
        "        # compute the approximation gradients of weight wi</font>\n",
        "        approx_gradients.append(approximation gradients of weight wi)<font color='grey'>\n",
        "    # compare the gradient of weights W from backword_propagation() with the aproximation gradients of weights with <br>  gradient_check formula</font>\n",
        "    return gradient_check</font>\n",
        "<b>NOTE: you can do sanity check by checking all the return values of gradient_checking(),<br> they have to be zero. if not you have bug in your code\n",
        "</pre></b>"
      ]
    },
    {
      "cell_type": "markdown",
      "metadata": {
        "id": "0ufbFBFfhgL0"
      },
      "source": [
        "# <font color='red'> Task 2 : Optimizers </font>"
      ]
    },
    {
      "cell_type": "markdown",
      "metadata": {
        "id": "7zt05soYh1RM"
      },
      "source": [
        "* As a part of this task, you will be implementing 3 type of optimizers(methods to update weight)\n",
        "* Use the same computational graph that was mentioned above to do this task\n",
        "* Initilze the 9 weights from normal distribution with mean=0 and std=0.01"
      ]
    },
    {
      "cell_type": "markdown",
      "metadata": {
        "id": "CAyi7aSAicbr"
      },
      "source": [
        "**Check below video and <a href='https://cs231n.github.io/neural-networks-3/'>this</a> blog**"
      ]
    },
    {
      "cell_type": "code",
      "metadata": {
        "id": "ZogcxiegkQpz",
        "colab": {
          "base_uri": "https://localhost:8080/",
          "height": 521
        },
        "outputId": "78f659a5-dc16-4d9d-e7d8-ffb22a8d4411"
      },
      "source": [
        "from IPython.display import YouTubeVideo\n",
        "YouTubeVideo('gYpoJMlgyXA',width=\"1000\",height=\"500\")"
      ],
      "execution_count": 3,
      "outputs": [
        {
          "output_type": "execute_result",
          "data": {
            "text/html": [
              "\n",
              "        <iframe\n",
              "            width=\"1000\"\n",
              "            height=\"500\"\n",
              "            src=\"https://www.youtube.com/embed/gYpoJMlgyXA\"\n",
              "            frameborder=\"0\"\n",
              "            allowfullscreen\n",
              "        ></iframe>\n",
              "        "
            ],
            "text/plain": [
              "<IPython.lib.display.YouTubeVideo at 0x7fd985d3a990>"
            ],
            "image/jpeg": "[encoded data removed]"
          },
          "metadata": {
            "tags": []
          },
          "execution_count": 3
        }
      ]
    },
    {
      "cell_type": "markdown",
      "metadata": {
        "id": "jmefh7ktjbaR"
      },
      "source": [
        "<font color='blue'><b>Algorithm</b>"
      ]
    },
    {
      "cell_type": "markdown",
      "metadata": {
        "id": "nAc4NudkjdNa"
      },
      "source": [
        "<pre>\n",
        "    for each epoch(1-100):\n",
        "        for each data point in your data:\n",
        "            using the functions forward_propagation() and backword_propagation() compute the gradients of weights\n",
        "            update the weigts with help of gradients  ex: w1 = w1-learning_rate*dw1\n",
        "</pre>"
      ]
    },
    {
      "cell_type": "markdown",
      "metadata": {
        "id": "_fdmPNqtjm3X"
      },
      "source": [
        "## <font color='red'> Implement below tasks</b>"
      ]
    },
    {
      "cell_type": "markdown",
      "metadata": {
        "id": "Ll9-CRsLjx_D"
      },
      "source": [
        "\n",
        "*  <b>Task 2.1</b>: you will be implementing the above algorithm with <b>Vanilla update</b> of weights<br><br>\n",
        "*  <b>Task 2.2</b>: you will be implementing the above algorithm with <b>Momentum update</b> of weights<br><br>\n",
        "*  <b>Task 2.3</b>: you will be implementing the above algorithm with <b>Adam update</b> of weights\n"
      ]
    },
    {
      "cell_type": "markdown",
      "metadata": {
        "id": "atp082demrUR"
      },
      "source": [
        "**Note : If you get any assertion error while running grader functions, please print the variables in grader functions and check which variable is returning False .Recheck your logic for that variable .**"
      ]
    },
    {
      "cell_type": "markdown",
      "metadata": {
        "id": "phG2WDkjkuIL"
      },
      "source": [
        "<br>\n",
        "<br>\n",
        "<br>"
      ]
    },
    {
      "cell_type": "markdown",
      "metadata": {
        "id": "CBaPzHP63grG"
      },
      "source": [
        "# <font color='red'>Task 1 </font>"
      ]
    },
    {
      "cell_type": "markdown",
      "metadata": {
        "id": "QfmV3FUgSrBo"
      },
      "source": [
        "## <font color='blue'>Forward propagation </font>"
      ]
    },
    {
      "cell_type": "code",
      "metadata": {
        "id": "5_pBivcY30qf"
      },
      "source": [
        "#reference for tanh:https://www.geeksforgeeks.org/numpy-tanh-python/#:~:text=The%20numpy.,sinh(x)%20%2F%20np.\n",
        "def sigmoid(z):\n",
        "    '''In this function, we will compute the sigmoid(z)'''\n",
        "    # we can use this function in forward and backward propagation\n",
        "\n",
        "    return 1 / (1 + np.exp(-z))\n",
        "    \n",
        "def forward_propagation(x, y, w):\n",
        "        dict_val = []\n",
        "        '''In this function, we will compute the forward propagation '''\n",
        "        # X: input data point, note that in this assignment you are having 5-d data points\n",
        "        # y: output varible\n",
        "        # W: weight array, its of length 9, W[0] corresponds to w1 in graph, W[1] corresponds to w2 in graph,..., W[8] corresponds to w9 in graph.  \n",
        "        # you have to return the following variables\n",
        "        # exp= part1 (compute the forward propagation until exp and then store the values in exp)\n",
        "        exp = np.exp((np.dot(w[0] , x[0]) + np.dot(w[1] , x[1]))**2 + w[5])\n",
        "        # tanh =part2(compute the forward propagation until tanh and then store the values in tanh)\n",
        "        tanh = np.tanh(exp + w[6])\n",
        "        # sig = part3(compute the forward propagation until sigmoid and then store the values in sig)\n",
        "        beforesig = np.sin(np.dot(x[2] , w[2])) * (np.dot(x[3] , w[3]) + np.dot(x[4] , w[4]))\n",
        "        sig = sigmoid(beforesig + w[7])\n",
        "        # now compute remaining values from computional graph and get y' \n",
        "        y_hat =  tanh + np.dot(sig,w[8])\n",
        "        # write code to compute the value of L=(y-y')^2\n",
        "        L = ((y-y_hat)**2)\n",
        "        # compute derivative of L  w.r.to Y' and store it in dl\n",
        "        dl = 2 * (y_hat-y)\n",
        "        # Create a dictionary to store all the intermediate values\n",
        "        #intermediate_values = {}\n",
        "        dict_keys = ['dy_pr','loss','exp','tanh','sigmoid']\n",
        "        dict_val.extend([dl,L,exp,tanh,sig])\n",
        "        intermediate_values = dict(zip(dict_keys,dict_val))\n",
        "        # store L, exp,tanh,sig variables\n",
        "        return intermediate_values"
      ],
      "execution_count": 4,
      "outputs": []
    },
    {
      "cell_type": "markdown",
      "metadata": {
        "id": "z-z1rGKqCHNN"
      },
      "source": [
        "<font color='cyan'>Grader function - 1</font>"
      ]
    },
    {
      "cell_type": "code",
      "metadata": {
        "id": "6ZxFF00zBmx1",
        "colab": {
          "base_uri": "https://localhost:8080/"
        },
        "outputId": "49b7e52b-bea0-4afa-e41a-0e401c642cba"
      },
      "source": [
        "def grader_sigmoid(z):\n",
        "  val=sigmoid(z)\n",
        "  assert(val==0.8807970779778823)\n",
        "  return True\n",
        "grader_sigmoid(2)"
      ],
      "execution_count": 5,
      "outputs": [
        {
          "output_type": "execute_result",
          "data": {
            "text/plain": [
              "True"
            ]
          },
          "metadata": {
            "tags": []
          },
          "execution_count": 5
        }
      ]
    },
    {
      "cell_type": "markdown",
      "metadata": {
        "id": "KgAUXq_aChey"
      },
      "source": [
        "<font color='cyan'>Grader function - 2 </font>"
      ]
    },
    {
      "cell_type": "code",
      "metadata": {
        "id": "3uzsUqcjCorN",
        "colab": {
          "base_uri": "https://localhost:8080/"
        },
        "outputId": "afb4223c-c9ba-4da9-bece-ac547bdb47f9"
      },
      "source": [
        "def grader_forwardprop(data):\n",
        "    dl = (data['dy_pr']==-1.9285278284819143)\n",
        "    loss=(data['loss']==0.9298048963072919)\n",
        "    part1=(data['exp']==1.1272967040973583)\n",
        "    part2=(data['tanh']==0.8417934192562146)\n",
        "    part3=(data['sigmoid']==0.5279179387419721)\n",
        "    assert(dl and loss and part1 and part2 and part3)\n",
        "    return True\n",
        "w=np.ones(9)*0.1\n",
        "d1=forward_propagation(X[0],y[0],w)\n",
        "grader_forwardprop(d1)"
      ],
      "execution_count": 6,
      "outputs": [
        {
          "output_type": "execute_result",
          "data": {
            "text/plain": [
              "True"
            ]
          },
          "metadata": {
            "tags": []
          },
          "execution_count": 6
        }
      ]
    },
    {
      "cell_type": "markdown",
      "metadata": {
        "id": "obOaAqj3Sxvb"
      },
      "source": [
        "## <font color='blue'>Backward propagation</font>"
      ]
    },
    {
      "cell_type": "markdown",
      "metadata": {
        "id": "328Tyc_ab81j"
      },
      "source": [
        "![image.png](data:image/png;base64,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)"
      ]
    },
    {
      "cell_type": "code",
      "metadata": {
        "id": "mxlgNEWyAoRb"
      },
      "source": [
        "import math\n",
        "def backward_propagation(L,W,dicti):\n",
        "    '''In this function, we will compute the backward propagation '''\n",
        "    # L: the loss we calculated for the current point\n",
        "    # dictionary: the outputs of the forward_propagation() function\n",
        "    # write code to compute the gradients of each weight [w1,w2,w3,...,w9]\n",
        "    # Hint: you can use dict type to store the required variables \n",
        "\n",
        "    dw9 = dicti['dy_pr'] * dicti['sigmoid']\n",
        "    dw8 = dicti['dy_pr'] * W[8] * dicti['sigmoid'] * (1 - dicti['sigmoid'])\n",
        "    dw7 = dicti['dy_pr'] * (1 - (dicti['tanh'])**2)\n",
        "    dw6 = dw7 * dicti['exp']\n",
        "    dw1 = dw6 * (2 * (np.dot(L[0] , W[0]) + np.dot(L[1] , W[1])) * L[0])\n",
        "    dw2 = dw6 * (2 * (np.dot(L[0] , W[0]) + np.dot(L[1] , W[1])) * L[1])\n",
        "    dw5 = dw8 * (math.sin(np.dot(L[2] , W[2]))) * L[4]\n",
        "    dw4 = dw8 * (math.sin(np.dot(L[2] , W[2]))) * L[3]\n",
        "    dw3 = dw8 * (np.dot(L[3] , W[3]) + np.dot(L[4] , W[4])) * (L[2] * math.cos(np.dot(L[2] , W[2])))\n",
        "\n",
        "    \n",
        "    dW = {}\n",
        "    dW['dw1'] = dw1\n",
        "    dW['dw2'] = dw2\n",
        "    dW['dw3'] = dw3\n",
        "    dW['dw4'] = dw4\n",
        "    dW['dw5'] = dw5\n",
        "    dW['dw6'] = dw6\n",
        "    dW['dw7'] = dw7\n",
        "    dW['dw8'] = dw8\n",
        "    dW['dw9'] = dw9\n",
        "    \n",
        "    return dW\n"
      ],
      "execution_count": 7,
      "outputs": []
    },
    {
      "cell_type": "markdown",
      "metadata": {
        "id": "2NpZWAVlS4jb"
      },
      "source": [
        "<font color='cyan'>Grader function - 3 </font>"
      ]
    },
    {
      "cell_type": "code",
      "metadata": {
        "id": "1a8Kll2xGhMJ",
        "colab": {
          "base_uri": "https://localhost:8080/"
        },
        "outputId": "0cfba3fe-1ee9-405d-8cd8-f7e1260af254"
      },
      "source": [
        "def grader_backprop(data):\n",
        "    dw1=(data['dw1']==-0.22973323498702003)\n",
        "    dw2=(data['dw2']==-0.021407614717752925)\n",
        "    dw3=(data['dw3']==-0.005625405580266319)\n",
        "    dw4=(data['dw4']==-0.004657941222712423)\n",
        "    dw5=(data['dw5']==-0.0010077228498574246)\n",
        "    dw6=(data['dw6']==-0.6334751873437471)\n",
        "    dw7=(data['dw7']==-0.561941842854033)\n",
        "    dw8=(data['dw8']==-0.04806288407316516)\n",
        "    dw9=(data['dw9']==-1.0181044360187037)\n",
        "    assert(dw1 and dw2 and dw3 and dw4 and dw5 and dw6 and dw7 and dw8 and dw9)\n",
        "    return True \n",
        "w=np.ones(9)*0.1\n",
        "d1=forward_propagation(X[0],y[0],w)\n",
        "d1=backward_propagation(X[0],w,d1)\n",
        "grader_backprop(d1)"
      ],
      "execution_count": 8,
      "outputs": [
        {
          "output_type": "execute_result",
          "data": {
            "text/plain": [
              "True"
            ]
          },
          "metadata": {
            "tags": []
          },
          "execution_count": 8
        }
      ]
    },
    {
      "cell_type": "markdown",
      "metadata": {
        "id": "1rfHHXZwgwo6"
      },
      "source": [
        "## <font color='blue'> Implement gradient checking</font>"
      ]
    },
    {
      "cell_type": "code",
      "metadata": {
        "id": "oh8wj1yjGhOi"
      },
      "source": [
        "W = np.ones(9)*0.1\n",
        "def gradient_checking(data_point,y, W):\n",
        "    # compute the L value using forward_propagation()\n",
        "    d1=forward_propagation(data_point[0],y[0],W)\n",
        "    # compute the gradients of W using backword_propagation()\n",
        "    d2=backward_propagation(data_point[0],W,d1)\n",
        "    #taking updated weights into a list 'upd_grads' as array\n",
        "    upd_grads = np.array(list(d2.values()))\n",
        "    epsilon = 0.0001                       \n",
        "    approx_gradients = []\n",
        "    for each_wi in range(len(W)):\n",
        "        # add a small value to weight wi, and then find the values of L with the updated weights\n",
        "        W[each_wi] = W[each_wi]+ (epsilon)\n",
        "        forprop1 = forward_propagation(data_point[0],y[0],W)\n",
        "        forloss1 = forprop1['loss']\n",
        "        # subtract a small value to weight wi, and then find the values of L with the updated weights\n",
        "        W[each_wi] = W[each_wi] - 2 * (epsilon)\n",
        "        forprop2 = forward_propagation(data_point[0],y[0],W)\n",
        "        forloss2 = forprop2['loss']\n",
        "        # compute the approximation gradients of weight w\n",
        "        approx_grad_value = (forloss1-forloss2)/(2*epsilon) \n",
        "        W[each_wi] = (W[each_wi] + (epsilon))\n",
        "        approx_gradients.append(approx_grad_value)\n",
        "    # compare the gradient of weights W from backword_propagation() with the aproximation gradients of weights with gradient_check formula\n",
        "    numerator = (np.linalg.norm((np.array(approx_gradients))-(np.array(upd_grads))))\n",
        "    denominator = (np.linalg.norm(approx_gradients)) + (np.linalg.norm(upd_grads))\n",
        "    gradient_check = (numerator/denominator)\n",
        "    return gradient_check\n",
        "gradient_check= gradient_checking(X,y,W)   "
      ],
      "execution_count": 104,
      "outputs": []
    },
    {
      "cell_type": "code",
      "metadata": {
        "colab": {
          "base_uri": "https://localhost:8080/"
        },
        "id": "dJIZfx22EY9d",
        "outputId": "45ff9436-6e74-4fcb-c9f6-025cb827b389"
      },
      "source": [
        "gradient_check"
      ],
      "execution_count": 105,
      "outputs": [
        {
          "output_type": "execute_result",
          "data": {
            "text/plain": [
              "2.235141254144424e-09"
            ]
          },
          "metadata": {
            "tags": []
          },
          "execution_count": 105
        }
      ]
    },
    {
      "cell_type": "code",
      "metadata": {
        "colab": {
          "base_uri": "https://localhost:8080/"
        },
        "id": "n7T7WYaS02b-",
        "outputId": "db31301a-9854-41e4-cc24-78f32efa4412"
      },
      "source": [
        "if gradient_check < 1e-7:\n",
        "  print(\"Correct\")\n",
        "else:\n",
        "  print(\"Invalid\")  "
      ],
      "execution_count": 101,
      "outputs": [
        {
          "output_type": "stream",
          "text": [
            "Correct\n"
          ],
          "name": "stdout"
        }
      ]
    },
    {
      "cell_type": "markdown",
      "metadata": {
        "id": "MhwDSe99kJ32"
      },
      "source": [
        "# <font color='red'>Task 2: Optimizers"
      ]
    },
    {
      "cell_type": "markdown",
      "metadata": {
        "id": "hoxhtdAaW6vm"
      },
      "source": [
        "#### Have refered [this](https://www.kdnuggets.com/2019/06/gradient-descent-algorithms-cheat-sheet.html) blog for performing task 2"
      ]
    },
    {
      "cell_type": "markdown",
      "metadata": {
        "id": "jJzI-vnPk1dB"
      },
      "source": [
        "###<font color='blue'>Algorithm with Vanilla update of weights</font>"
      ]
    },
    {
      "cell_type": "code",
      "metadata": {
        "id": "xJspU6ZuGhRQ"
      },
      "source": [
        "mean_van, std_van = 0, 0.01\n",
        "learning_rate = 0.0001\n",
        "weights_van = np.random.normal(mean_van, std_van,size=9)\n",
        "loss_van = []\n",
        "for each_epoch in range(0,100):\n",
        "    van_loss = []\n",
        "    for i in range(len(X)):\n",
        "        van_froprop = forward_propagation(X[i],y[i],weights_van)\n",
        "        van_d = backward_propagation(X[i],weights_van,van_froprop)\n",
        "        grads = np.asarray(list(van_d.values()))\n",
        "    \n",
        "        weights_van = weights_van - learning_rate * grads\n",
        "        van_loss.append(van_froprop['loss'])\n",
        "    loss_van.append(np.median(van_loss))"
      ],
      "execution_count": 82,
      "outputs": []
    },
    {
      "cell_type": "markdown",
      "metadata": {
        "id": "UlTLXrvmlR26"
      },
      "source": [
        "<font color='blue'>Plot between epochs and loss</font>"
      ]
    },
    {
      "cell_type": "code",
      "metadata": {
        "id": "CjTCVUIoGhTo",
        "colab": {
          "base_uri": "https://localhost:8080/",
          "height": 295
        },
        "outputId": "035390f6-7af7-4399-920f-24c058b5bc78"
      },
      "source": [
        "epoch = np.arange(0,100)\n",
        "plt.plot(epoch,loss_van, label='Vanilla Loss',color='red')\n",
        "plt.legend()\n",
        "plt.xlabel('Epochs')\n",
        "plt.ylabel('Loss')\n",
        "plt.title('Vanilla Update')\n",
        "plt.grid()\n",
        "plt.show()"
      ],
      "execution_count": 83,
      "outputs": [
        {
          "output_type": "display_data",
          "data": {
            "image/png": "[encoded data removed]",
            "text/plain": [
              "<Figure size 432x288 with 1 Axes>"
            ]
          },
          "metadata": {
            "tags": [],
            "needs_background": "light"
          }
        }
      ]
    },
    {
      "cell_type": "markdown",
      "metadata": {
        "id": "cv_hZFWalS2z"
      },
      "source": [
        "###<font color='blue'>Algorithm with Momentum update of weights</font>"
      ]
    },
    {
      "cell_type": "code",
      "metadata": {
        "id": "uucCdyQrGhZt"
      },
      "source": [
        "mean_momen, std_momen = 0, 0.01\n",
        "learning_rate,B,momentum = 0.0001,0.9,0 \n",
        "weights_momen = np.random.normal(mean_momen, std_momen,size=9)\n",
        "loss_momen = []\n",
        "for each_epoch in range(0,100):\n",
        "  momen_loss = []\n",
        "  for i in range(len(X)):\n",
        "    momen_froprop = forward_propagation(X[i],y[i],weights_momen)\n",
        "    momen_d = backward_propagation(X[i],weights_momen,momen_froprop)\n",
        "    grads_momen = np.asarray(list(momen_d.values()))\n",
        "    momentum = (B*momentum) + (1-B)*grads_momen\n",
        "    weights_momen = weights_momen - learning_rate * momentum\n",
        "    momen_loss.append(momen_froprop['loss'])\n",
        "  loss_momen.append(np.median(momen_loss))"
      ],
      "execution_count": 89,
      "outputs": []
    },
    {
      "cell_type": "markdown",
      "metadata": {
        "id": "Ow20azfKlVhn"
      },
      "source": [
        "<font color='blue'>Plot between epochs and loss</font>"
      ]
    },
    {
      "cell_type": "code",
      "metadata": {
        "id": "u-m90Sq_Ghce",
        "colab": {
          "base_uri": "https://localhost:8080/",
          "height": 295
        },
        "outputId": "2623129e-65bb-474f-f85b-ecdd9233ca48"
      },
      "source": [
        "epoch = range(0,100)\n",
        "plt.plot(epoch,loss_momen, label='Momentum Loss',color='red')\n",
        "plt.legend()\n",
        "plt.xlabel('Epochs')\n",
        "plt.ylabel('Loss')\n",
        "plt.title('Momentum Update')\n",
        "plt.grid()\n",
        "plt.show()"
      ],
      "execution_count": 90,
      "outputs": [
        {
          "output_type": "display_data",
          "data": {
            "image/png": "[encoded data removed]",
            "text/plain": [
              "<Figure size 432x288 with 1 Axes>"
            ]
          },
          "metadata": {
            "tags": [],
            "needs_background": "light"
          }
        }
      ]
    },
    {
      "cell_type": "markdown",
      "metadata": {
        "id": "V4RWWrZ7lWap"
      },
      "source": [
        "###<font color='blue'>Algorithm with Adam update of weights</font>"
      ]
    },
    {
      "cell_type": "code",
      "metadata": {
        "id": "72rRC8rJGhf5"
      },
      "source": [
        "mean_adam, std_adam = 0, 0.01\n",
        "learning_rate = 0.0001\n",
        "w1 = np.random.normal(mean_adam, std_adam, 9)\n",
        "B1,B2 = 0.9,0.99\n",
        "epsilon = 1e-8\n",
        "v,vt = 0,0\n",
        "s,st = 0,0\n",
        "loss_adam = []\n",
        "\n",
        "for p in range(0,100):\n",
        "  adam_loss = []\n",
        "  for q in range(len(X)):\n",
        "    adam_forprop = forward_propagation(X[q],y[q],w1)\n",
        "    adam_d = backward_propagation(X[q],w1,adam_forprop)\n",
        "    grads_adam = np.asarray(list(adam_d.values()))\n",
        "    v = (B1 * v) + ((1 - B1) * grads_adam)\n",
        "    s = (B2 * s) + ((1 - B2) * (grads_adam**2))\n",
        "    vt = v / (1 - B1)\n",
        "    st = s / (1 - B2)\n",
        "\n",
        "    w1 = w1 - ((learning_rate * vt) / (np.sqrt(st) + epsilon))\n",
        "    adam_loss.append(adam_forprop['loss'])\n",
        "  loss_adam.append(np.median(adam_loss))"
      ],
      "execution_count": 95,
      "outputs": []
    },
    {
      "cell_type": "markdown",
      "metadata": {
        "id": "MMy0nBw-lXml"
      },
      "source": [
        "<font color='blue'>Plot between epochs and loss</font>"
      ]
    },
    {
      "cell_type": "code",
      "metadata": {
        "id": "aiFRk_uFlm2V",
        "colab": {
          "base_uri": "https://localhost:8080/",
          "height": 295
        },
        "outputId": "50d9c8a7-91bd-4cfb-b316-e1b2e42b6ea7"
      },
      "source": [
        "epoch = np.arange(0,100)\n",
        "plt.plot(epoch,loss_adam, label='Adam Loss',color='red')\n",
        "plt.legend()\n",
        "plt.xlabel('Epochs')\n",
        "plt.ylabel('Loss')\n",
        "plt.title('Adam Update')\n",
        "plt.grid()\n",
        "plt.show()"
      ],
      "execution_count": 96,
      "outputs": [
        {
          "output_type": "display_data",
          "data": {
            "image/png": "[encoded data removed]",
            "text/plain": [
              "<Figure size 432x288 with 1 Axes>"
            ]
          },
          "metadata": {
            "tags": [],
            "needs_background": "light"
          }
        }
      ]
    },
    {
      "cell_type": "markdown",
      "metadata": {
        "id": "7627cy8YlnYO"
      },
      "source": [
        "<font color='blue'>Comparision plot between epochs and loss with different optimizers</font>"
      ]
    },
    {
      "cell_type": "code",
      "metadata": {
        "id": "scleSfIXl_bC",
        "colab": {
          "base_uri": "https://localhost:8080/",
          "height": 458
        },
        "outputId": "19eca41a-0096-4a88-851f-4993c1ce65a3"
      },
      "source": [
        "plt.figure(figsize = (10,7))\n",
        "epoch = np.arange(0,100)\n",
        "plt.plot(epoch,loss_van, label='Vanilla Loss',color='blue')\n",
        "plt.plot(epoch,loss_momen, label='Momentum Loss',color='yellow')\n",
        "plt.plot(epoch,loss_adam, label='Adam Loss',color='red')\n",
        "\n",
        "plt.legend()\n",
        "plt.xlabel('Epochs')\n",
        "plt.ylabel('Loss')\n",
        "plt.title('Vanilla-Momentum-Adam-Loss plot')\n",
        "plt.grid()\n",
        "plt.show()"
      ],
      "execution_count": 97,
      "outputs": [
        {
          "output_type": "display_data",
          "data": {
            "image/png": "[encoded data removed]",
            "text/plain": [
              "<Figure size 720x504 with 1 Axes>"
            ]
          },
          "metadata": {
            "tags": [],
            "needs_background": "light"
          }
        }
      ]
    },
    {
      "cell_type": "markdown",
      "metadata": {
        "id": "sIZFvbwTV6Ou"
      },
      "source": [
        "####Here vanilla loss and momentum loss are overlapping"
      ]
    }
  ]
}